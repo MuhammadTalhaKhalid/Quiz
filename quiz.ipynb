{
 "cells": [
  {
   "cell_type": "markdown",
   "id": "e202f247-1935-42b7-ac2d-08547eff2e0b",
   "metadata": {},
   "source": [
    "# You are given a grid as shown in the figure below. You can determine the color and number of\n",
    "each square from the grid. Write python program that inputs two numbers within the grid range.\n",
    "Your program will determine if the two squares entered in this grid have the same color or not\n",
    "and display the appropriate message, let’s call this ROUND1. You then again ask the user to\n",
    "enter two numbers and determine if the two squares have the same color then display a victory\n",
    "message but this time you will have to make sure that does not repeat the numbers entered in\n",
    "2the first round. If he does, give him a warning and ask to enter values again (You can give a max\n",
    "of 3 warnings, on the fourth warning you will end the program). Total rounds of this guessing\n",
    "game will be 5. In each round you will make sure that the numbers entered do not match with\n",
    "any of the previous victory numbers.\n",
    "If the user wins at least 3 rounds of this guessing game, then it's a win.\n",
    "\n",
    "1. Input: 2 4 // are not equal =>Round1\n",
    "2. Input: 9 15 //are equal =>Round2\n",
    "3. Input: 9 15 //WARNING 1 and is not considered as a round3\n",
    "4. Input: 16 21 //are equal =>Round3\n",
    "5. Input: 16 21 //WARNING 2 and is not considered as a round4\n",
    "6. Input: 9 5 //WARNING 3 and is not considered as a round4\n",
    "7. Input: 29 30 // are not equal =>Round4\n",
    "8. Input: 9 5 //WARNING 4 **END OF PROGRAM**\n",
    "\n"
   ]
  },
  {
   "cell_type": "code",
   "execution_count": 20,
   "id": "96725b3f-54c5-4e0b-8c3a-563b9532c713",
   "metadata": {},
   "outputs": [],
   "source": [
    "grid_number=list(range(1,37))\n",
    "grid_color=['green','red','blue','orange','gray','green','green','gray','orange','blue','red','green','red','blue','orange','gray','green',\n",
    "\n",
    "'red','red','green','gray','orange','blue','red','blue','orange','gray','green','red','blue','blue','red','green','gray','orange','blue']"
   ]
  },
  {
   "cell_type": "code",
   "execution_count": 21,
   "id": "3cd4170d-2012-4566-a5f7-fad31a4b657c",
   "metadata": {},
   "outputs": [],
   "source": [
    "grid={}\n",
    "for i in range(0,36):\n",
    "  \n",
    "    grid[grid_number[i]]=grid_color[i]\n",
    "    "
   ]
  },
  {
   "cell_type": "code",
   "execution_count": 13,
   "id": "13e0ddfc-1ec5-4709-ad7a-dc357a5a587b",
   "metadata": {},
   "outputs": [],
   "source": [
    "numbers_entered={}\n",
    "warnings=3\n",
    "guess=5\n",
    "while warnings>0:\n",
    "    while guess>0:\n",
    "        inp_1=int(input())\n",
    "        inp_2=int(input())\n",
    "        \n",
    "        if grid[inp_1]==grid[inp_2]:\n",
    "            print('are equal')\n",
    "            guess-=1\n",
    "        "
   ]
  },
  {
   "cell_type": "markdown",
   "id": "bab466ca-c3bc-440e-b138-e21f46a5d65e",
   "metadata": {},
   "source": [
    "# q2 Write a program that displays the following menu: Welcome to Guessing games\n",
    "1. Play Higher or Lower\n",
    "2. Play paper - scissors - rock\n",
    "3. Guess the numbers\n",
    "4. Quit Enter your choice (1 - 4)\n",
    "   \n",
    "If the user enters 1, the program should generate two random numbers between 1 and 20 and\n",
    "display the first number. It should then ask the user to enter either H or L for Higher or Lower.\n",
    "The user wins if they entered H and the second number was higher than the first or when they\n",
    "entered L and the second number was lower than the first.\n",
    "If the user enters 2, the program should generate one random number between 1 and 3 with 1\n",
    "corresponding to paper, 2 to scissors, and 3 to rock. The program should then ask the user to\n",
    "enter P for paper, S for scissors, or R for rock. If the user guesses the correct corresponding\n",
    "number, the program should then display who won the computer or the user. Scissors beat\n",
    "paper, rock beats scissors, and paper beats rock.\n",
    "Example: if the random number is 2 and the user enters the character S the program should\n",
    "display, you won: Scissors beats paper. If a user enters any other character, the program should\n",
    "display: you lose.\n",
    "\n",
    "\n",
    "Finally, if the user enters 3, the program will generate three random numbers each between 0\n",
    "and 9. The user should guess three numbers and the program should compare each of the\n",
    "user's guess to the three generated random numbers and display an appropriate output based\n",
    "on whether they got:\n",
    "1. Any one matching\n",
    "2. Two matching\n",
    "3. Three matching, not in order\n",
    "4. Three matching in exact order\n",
    "5. No matches at all Input Validation:\n",
    "Input Validation: Display an error message if the user enters a number outside the range of\n",
    "through 4 when selecting an item from the menu. Do not accept characters other Than H or L\n",
    "for Higher / Lower, other than P, S, and R for paper, scissors and rock , or a value outside the\n",
    "range from 0 to 9 for guessing numbers. The user can play games in a repeated manner until the\n",
    "user terminates the game by choice."
   ]
  },
  {
   "cell_type": "code",
   "execution_count": 101,
   "id": "cc57c89d-6e47-46a6-902b-4e8ed9895c2c",
   "metadata": {},
   "outputs": [
    {
     "name": "stdin",
     "output_type": "stream",
     "text": [
      "enter 1,2,3 or 4  3\n",
      "enter your number 3\n",
      "enter your number 5\n",
      "enter your number 8\n"
     ]
    },
    {
     "name": "stdout",
     "output_type": "stream",
     "text": [
      "human generated numbers are [3, 5, 8] and random generated numbers are [0, 7, 5].\n",
      "matching guesses are 1\n"
     ]
    }
   ],
   "source": [
    "import random\n",
    "game=int(input(\"enter 1,2,3 or 4 \"))\n",
    "\n",
    "if game==1:\n",
    "    num1=random.randint(1,20)\n",
    "    num2=random.randint(1,20)\n",
    "\n",
    "    \n",
    "    guess=input('enter H or L')\n",
    "    if guess =='H' and num2>num1:\n",
    "        print('you win')\n",
    "    elif guess =='l' and num2<num1:\n",
    "        print('you win')\n",
    "    else:\n",
    "        print('You loose')\n",
    "\n",
    "    print(f'num1 is {num1} and num2 is {num2}')\n",
    "elif game==2:\n",
    "    human_guess=input('Enter R for Rock, P for paper and S for Scissor')\n",
    "    system_guess=random.randint(1,3)\n",
    "    rps=''\n",
    "    if system_guess==1:\n",
    "        rps+='Paper'\n",
    "    elif system_guess==2:\n",
    "        rps+='Scissor'\n",
    "    else:\n",
    "        rps+='Rock'\n",
    "    if human_guess=='R' and rps=='Scissor':\n",
    "        print(f'you won Rock beats Scissor')\n",
    "    elif human_guess=='P' and rps=='Rock':\n",
    "        print(f'you won Paper beats Rock')\n",
    "    elif human_guess=='S' and rps=='Paper':\n",
    "        print(f'you won Scissors beat paper')\n",
    "\n",
    "elif game==3:\n",
    "    l=[]\n",
    "    h_guess=[]\n",
    "    \n",
    "    for i in range(3):\n",
    "        r_num=random.randint(0,9)\n",
    "        l.append(r_num)\n",
    "\n",
    "        my_guess=int(input('enter your number'))\n",
    "        h_guess.append(my_guess)\n",
    "    count=0\n",
    "    for j in range(3):\n",
    "        if h_guess[j] in l:\n",
    "            count+=1\n",
    "    print(f'human generated numbers are {h_guess} and random generated numbers are {l}.')\n",
    "    print(f'matching guesses are {count}')\n",
    "        "
   ]
  },
  {
   "cell_type": "code",
   "execution_count": null,
   "id": "02f19f56-3151-4c9a-8740-64a67a6a6742",
   "metadata": {},
   "outputs": [],
   "source": []
  },
  {
   "cell_type": "code",
   "execution_count": null,
   "id": "473f152e-f29c-4b5c-98c7-39f9c574c6fc",
   "metadata": {},
   "outputs": [],
   "source": []
  },
  {
   "cell_type": "code",
   "execution_count": null,
   "id": "33351702-f476-46ac-8b5d-28664ac43281",
   "metadata": {},
   "outputs": [],
   "source": []
  },
  {
   "cell_type": "markdown",
   "id": "7252a8f4-37f8-42b7-9abd-8348311ab327",
   "metadata": {},
   "source": [
    "# q3: Consider an integer array, the number of elements in which is determined by the user. The elements are also taken as input from the user. Write a program to find those pairs of elements that have the maximum and minimum difference among all element pairs.use lists and tuples only"
   ]
  },
  {
   "cell_type": "code",
   "execution_count": 73,
   "id": "c7c1c687-29dc-40cf-9b4e-b1123330685e",
   "metadata": {},
   "outputs": [
    {
     "data": {
      "text/plain": [
       "{(2, 4): 2,\n",
       " (2, 6): 4,\n",
       " (2, 7): 5,\n",
       " (2, 23): 21,\n",
       " (2, 65): 63,\n",
       " (2, 43): 41,\n",
       " (4, 6): 2,\n",
       " (4, 7): 3,\n",
       " (4, 23): 19,\n",
       " (4, 65): 61,\n",
       " (4, 43): 39,\n",
       " (6, 7): 1,\n",
       " (6, 23): 17,\n",
       " (6, 65): 59,\n",
       " (6, 43): 37,\n",
       " (7, 23): 16,\n",
       " (7, 65): 58,\n",
       " (7, 43): 36,\n",
       " (23, 65): 42,\n",
       " (23, 43): 20,\n",
       " (65, 43): 22}"
      ]
     },
     "execution_count": 73,
     "metadata": {},
     "output_type": "execute_result"
    }
   ],
   "source": [
    "\n",
    "elements=[2,4,6,7,23,65,43]\n",
    "pair_diff={}\n",
    "difference=[]\n",
    "for i in range(len(elements)):\n",
    "    for j in range(i+1,len(elements)):\n",
    "        \n",
    "        \n",
    "        diff=elements[i]-elements[j]\n",
    "        diff=abs(diff)\n",
    "        pair_diff[elements[i],elements[j]]=diff\n",
    "        \n",
    "     \n",
    "pair_diff    "
   ]
  },
  {
   "cell_type": "code",
   "execution_count": 80,
   "id": "3fbfe775-b269-4cfa-834e-2a59b93ed93f",
   "metadata": {},
   "outputs": [
    {
     "name": "stdout",
     "output_type": "stream",
     "text": [
      "maximum distance between elements is(65, 43) and their difference is 22 \n"
     ]
    }
   ],
   "source": [
    "maximum=max(pair_diff)\n",
    "print(f'maximum distance between elements is{maximum} and their difference is {pair_diff[maximum]} ')\n",
    "\n"
   ]
  },
  {
   "cell_type": "code",
   "execution_count": 81,
   "id": "1ee5bd1c-62d5-4205-a18e-56b45ab53eff",
   "metadata": {},
   "outputs": [
    {
     "name": "stdout",
     "output_type": "stream",
     "text": [
      "maximum distance between elements is(2, 4) and their difference is 2 \n"
     ]
    }
   ],
   "source": [
    "minimum=min(pair_diff)\n",
    "print(f'maximum distance between elements is{minimum} and their difference is {pair_diff[minimum]} ')\n",
    "\n",
    "\n"
   ]
  },
  {
   "cell_type": "code",
   "execution_count": null,
   "id": "2b3402da-676a-4627-a1e1-f4c9726b3531",
   "metadata": {},
   "outputs": [],
   "source": []
  }
 ],
 "metadata": {
  "kernelspec": {
   "display_name": "Python 3 (ipykernel)",
   "language": "python",
   "name": "python3"
  },
  "language_info": {
   "codemirror_mode": {
    "name": "ipython",
    "version": 3
   },
   "file_extension": ".py",
   "mimetype": "text/x-python",
   "name": "python",
   "nbconvert_exporter": "python",
   "pygments_lexer": "ipython3",
   "version": "3.12.9"
  }
 },
 "nbformat": 4,
 "nbformat_minor": 5
}
